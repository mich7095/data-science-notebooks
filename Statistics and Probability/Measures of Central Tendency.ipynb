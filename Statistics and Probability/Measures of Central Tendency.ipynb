{
 "cells": [
  {
   "cell_type": "markdown",
   "metadata": {},
   "source": [
    "# <center>Statistics: Measures of central tendency</center>\n",
    "<center>Author: <a href=\\\"https://www.linkedin.com/in/michel-carm%C3%ADa-corona-berm%C3%BAdez-304983122/\\\">Michel Corona Bermúdez</a></center>"
   ]
  },
  {
   "cell_type": "markdown",
   "metadata": {},
   "source": [
    "![Image of CT](http://statisticshelper.com/wp-content/uploads/2018/08/mean-median-mode-on-skewed-right-curve.png)"
   ]
  },
  {
   "cell_type": "markdown",
   "metadata": {},
   "source": [
    "## Mean and median"
   ]
  },
  {
   "cell_type": "markdown",
   "metadata": {},
   "source": [
    "Refresh:\n",
    "* **Mean** is most commonly used measures of central tendency. It actually represents the average of the given collection of data. It is applicable for both continuous and discrete data.\n",
    "\n",
    "* Generally **median** represents the mid value of the given set of data when arranged in a particular order."
   ]
  },
  {
   "cell_type": "markdown",
   "metadata": {},
   "source": [
    "Let's create some income dummy data, centered around 27,000 with a normal distribution and standard deviation of 15,000, with 10,000 data points. (We'll discuss those terms more later, if you're not familiar with them.)\n",
    "\n",
    "Then, compute the mean (average) - it should be close to 27,000:"
   ]
  },
  {
   "cell_type": "code",
   "execution_count": 14,
   "metadata": {},
   "outputs": [
    {
     "data": {
      "text/plain": [
       "26777.216139005104"
      ]
     },
     "execution_count": 14,
     "metadata": {},
     "output_type": "execute_result"
    }
   ],
   "source": [
    "import numpy as np\n",
    "\n",
    "incomes = np.random.normal(27000, 15000, 10000)\n",
    "np.mean(incomes)"
   ]
  },
  {
   "cell_type": "markdown",
   "metadata": {},
   "source": [
    "We can segment the income data into 50 buckets, and plot it as a histogram:"
   ]
  },
  {
   "cell_type": "code",
   "execution_count": 22,
   "metadata": {},
   "outputs": [
    {
     "data": {
      "image/png": "[encoded data removed]",
      "text/plain": [
       "<Figure size 432x288 with 1 Axes>"
      ]
     },
     "metadata": {},
     "output_type": "display_data"
    }
   ],
   "source": [
    "%matplotlib inline\n",
    "import matplotlib.pyplot as plt\n",
    "plt.hist(incomes,50,facecolor='green')\n",
    "#The default color is blue\n",
    "plt.show()"
   ]
  },
  {
   "cell_type": "markdown",
   "metadata": {},
   "source": [
    "Now compute the median - since we have a nice, even distribution it too should be close to 27,000:"
   ]
  },
  {
   "cell_type": "code",
   "execution_count": 23,
   "metadata": {},
   "outputs": [
    {
     "data": {
      "text/plain": [
       "26804.04079629163"
      ]
     },
     "execution_count": 23,
     "metadata": {},
     "output_type": "execute_result"
    }
   ],
   "source": [
    "np.median(incomes)"
   ]
  },
  {
   "cell_type": "markdown",
   "metadata": {},
   "source": [
    "Now we'll add a rich person into the mix. I want the same income!"
   ]
  },
  {
   "cell_type": "code",
   "execution_count": 4,
   "metadata": {},
   "outputs": [],
   "source": [
    "incomes = np.append(incomes, [1000000000])"
   ]
  },
  {
   "cell_type": "markdown",
   "metadata": {},
   "source": [
    "The median won't change much because I added one registry, but the mean does:"
   ]
  },
  {
   "cell_type": "code",
   "execution_count": 5,
   "metadata": {},
   "outputs": [
    {
     "data": {
      "text/plain": [
       "26995.28862186253"
      ]
     },
     "execution_count": 5,
     "metadata": {},
     "output_type": "execute_result"
    }
   ],
   "source": [
    "np.median(incomes)"
   ]
  },
  {
   "cell_type": "code",
   "execution_count": 6,
   "metadata": {},
   "outputs": [
    {
     "data": {
      "text/plain": [
       "126947.05235253941"
      ]
     },
     "execution_count": 6,
     "metadata": {},
     "output_type": "execute_result"
    }
   ],
   "source": [
    "np.mean(incomes)"
   ]
  },
  {
   "cell_type": "markdown",
   "metadata": {},
   "source": [
    "## Mode"
   ]
  },
  {
   "cell_type": "markdown",
   "metadata": {},
   "source": [
    "The most frequent number occurring in the data set is known as the **mode**. Next, let's generate some fake age data for 500 people:"
   ]
  },
  {
   "cell_type": "code",
   "execution_count": 18,
   "metadata": {},
   "outputs": [
    {
     "data": {
      "text/plain": [
       "array([30, 24, 24, 63, 36, 20, 37, 18, 35, 56, 84, 87, 31, 27, 26, 38, 71,\n",
       "       19, 35, 75, 73, 61, 21, 49, 56, 60, 75, 52, 53, 45, 76, 49, 69, 73,\n",
       "       20, 27, 41, 28, 63, 35, 49, 70, 38, 56, 43, 36, 56, 61, 20, 84, 19,\n",
       "       48, 72, 25, 21, 23, 70, 67, 69, 78, 54, 19, 81, 58, 49, 80, 86, 59,\n",
       "       58, 68, 51, 30, 19, 35, 61, 57, 35, 40, 44, 83, 42, 81, 89, 77, 74,\n",
       "       48, 85, 76, 86, 76, 72, 88, 42, 86, 74, 72, 50, 28, 79, 22, 44, 47,\n",
       "       27, 41, 84, 89, 85, 27, 56, 26, 87, 46, 71, 56, 49, 69, 62, 63, 59,\n",
       "       48, 66, 60, 61, 62, 25, 33, 50, 36, 25, 47, 25, 38, 43, 82, 62, 19,\n",
       "       54, 30, 74, 26, 83, 84, 65, 54, 33, 88, 77, 34, 33, 51, 65, 30, 89,\n",
       "       19, 49, 78, 81, 66, 89, 65, 89, 68, 35, 54, 60, 87, 70, 38, 61, 29,\n",
       "       38, 26, 30, 58, 52, 21, 72, 29, 40, 52, 23, 88, 67, 39, 79, 85, 23,\n",
       "       55, 71, 69, 45, 45, 68, 56, 77, 31, 69, 89, 59, 26, 32, 83, 55, 51,\n",
       "       57, 65, 85, 83, 26, 70, 66, 30, 61, 29, 40, 79, 81, 63, 79, 26, 63,\n",
       "       80, 28, 26, 85, 80, 83, 22, 36, 52, 37, 81, 29, 23, 29, 54, 42, 49,\n",
       "       83, 88, 64, 81, 68, 33, 55, 88, 78, 72, 51, 85, 51, 60, 62, 86, 87,\n",
       "       89, 67, 73, 57, 73, 53, 33, 28, 51, 35, 45, 78, 40, 60, 25, 84, 63,\n",
       "       47, 79, 64, 33, 26, 67, 83, 23, 76, 41, 87, 61, 28, 69, 19, 88, 78,\n",
       "       47, 40, 48, 53, 43, 78, 82, 72, 84, 44, 74, 76, 31, 65, 37, 31, 79,\n",
       "       48, 29, 88, 63, 69, 46, 66, 64, 72, 30, 44, 20, 28, 86, 51, 63, 39,\n",
       "       57, 87, 61, 55, 40, 50, 83, 22, 48, 28, 26, 70, 36, 35, 70, 38, 82,\n",
       "       50, 46, 82, 37, 53, 66, 85, 29, 22, 27, 19, 41, 44, 55, 48, 27, 70,\n",
       "       49, 58, 44, 78, 18, 86, 56, 48, 46, 72, 61, 29, 85, 41, 35, 58, 64,\n",
       "       27, 32, 40, 25, 34, 23, 62, 75, 77, 60, 54, 86, 25, 30, 23, 78, 58,\n",
       "       37, 61, 59, 39, 19, 34, 76, 39, 70, 56, 80, 34, 84, 68, 69, 44, 73,\n",
       "       83, 35, 31, 35, 34, 71, 82, 62, 22, 35, 69, 71, 77, 69, 74, 43, 71,\n",
       "       75, 36, 80, 89, 42, 29, 21, 86, 44, 82, 48, 48, 35, 56, 86, 62, 78,\n",
       "       70, 54, 62, 34, 73, 68, 71, 70, 79, 21, 32, 31, 63, 22, 56, 25, 56,\n",
       "       19, 44, 87, 21, 31, 56, 41, 84, 39, 32, 36, 30, 49, 30, 38, 61, 25,\n",
       "       33, 75, 54, 18, 72, 28, 81, 63, 77, 87, 59, 42, 34, 43, 57, 74, 34,\n",
       "       69, 49, 33, 25, 67, 46, 41])"
      ]
     },
     "execution_count": 18,
     "metadata": {},
     "output_type": "execute_result"
    }
   ],
   "source": [
    "ages = np.random.randint(18, high=90, size=500)\n",
    "ages"
   ]
  },
  {
   "cell_type": "code",
   "execution_count": 19,
   "metadata": {},
   "outputs": [
    {
     "data": {
      "text/plain": [
       "ModeResult(mode=array([35]), count=array([13]))"
      ]
     },
     "execution_count": 19,
     "metadata": {},
     "output_type": "execute_result"
    }
   ],
   "source": [
    "from scipy import stats\n",
    "stats.mode(ages)"
   ]
  }
 ],
 "metadata": {
  "kernelspec": {
   "display_name": "Python 3",
   "language": "python",
   "name": "python3"
  },
  "language_info": {
   "codemirror_mode": {
    "name": "ipython",
    "version": 3
   },
   "file_extension": ".py",
   "mimetype": "text/x-python",
   "name": "python",
   "nbconvert_exporter": "python",
   "pygments_lexer": "ipython3",
   "version": "3.6.7"
  }
 },
 "nbformat": 4,
 "nbformat_minor": 1
}
